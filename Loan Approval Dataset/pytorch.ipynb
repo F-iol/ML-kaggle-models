{
 "cells": [
  {
   "cell_type": "code",
   "execution_count": 263,
   "id": "1e56a2fb",
   "metadata": {},
   "outputs": [],
   "source": [
    "import pandas as pd\n",
    "import torch\n",
    "import torch.nn as nn\n",
    "from torch.optim import Adam\n",
    "from torch.utils.data import Dataset,DataLoader\n",
    "from torchsummary import summary\n",
    "from sklearn.model_selection import train_test_split\n",
    "from sklearn.metrics import accuracy_score\n",
    "import matplotlib.pyplot as plt\n",
    "import seaborn as sns\n",
    "import numpy as np\n"
   ]
  },
  {
   "cell_type": "code",
   "execution_count": 264,
   "id": "f2f6bb22",
   "metadata": {},
   "outputs": [
    {
     "data": {
      "text/plain": [
       "'cuda'"
      ]
     },
     "execution_count": 264,
     "metadata": {},
     "output_type": "execute_result"
    }
   ],
   "source": [
    "device = 'cuda' if torch.cuda.is_available() else 'cpu'\n",
    "device"
   ]
  },
  {
   "cell_type": "code",
   "execution_count": 265,
   "id": "5141bb6b",
   "metadata": {},
   "outputs": [],
   "source": [
    "df = pd.read_csv('loan_approval.csv')\n",
    "df.head(3)\n",
    "orginal_df = df.copy()"
   ]
  },
  {
   "cell_type": "code",
   "execution_count": 266,
   "id": "65f505ba",
   "metadata": {},
   "outputs": [
    {
     "data": {
      "text/html": [
       "<div>\n",
       "<style scoped>\n",
       "    .dataframe tbody tr th:only-of-type {\n",
       "        vertical-align: middle;\n",
       "    }\n",
       "\n",
       "    .dataframe tbody tr th {\n",
       "        vertical-align: top;\n",
       "    }\n",
       "\n",
       "    .dataframe thead th {\n",
       "        text-align: right;\n",
       "    }\n",
       "</style>\n",
       "<table border=\"1\" class=\"dataframe\">\n",
       "  <thead>\n",
       "    <tr style=\"text-align: right;\">\n",
       "      <th></th>\n",
       "      <th>income</th>\n",
       "      <th>credit_score</th>\n",
       "      <th>loan_amount</th>\n",
       "      <th>years_employed</th>\n",
       "      <th>points</th>\n",
       "      <th>loan_approved</th>\n",
       "    </tr>\n",
       "  </thead>\n",
       "  <tbody>\n",
       "    <tr>\n",
       "      <th>0</th>\n",
       "      <td>113810</td>\n",
       "      <td>389</td>\n",
       "      <td>39698</td>\n",
       "      <td>27</td>\n",
       "      <td>50.0</td>\n",
       "      <td>False</td>\n",
       "    </tr>\n",
       "    <tr>\n",
       "      <th>1</th>\n",
       "      <td>44592</td>\n",
       "      <td>729</td>\n",
       "      <td>15446</td>\n",
       "      <td>28</td>\n",
       "      <td>55.0</td>\n",
       "      <td>False</td>\n",
       "    </tr>\n",
       "    <tr>\n",
       "      <th>2</th>\n",
       "      <td>33278</td>\n",
       "      <td>584</td>\n",
       "      <td>11189</td>\n",
       "      <td>13</td>\n",
       "      <td>45.0</td>\n",
       "      <td>False</td>\n",
       "    </tr>\n",
       "    <tr>\n",
       "      <th>3</th>\n",
       "      <td>127196</td>\n",
       "      <td>344</td>\n",
       "      <td>48823</td>\n",
       "      <td>29</td>\n",
       "      <td>50.0</td>\n",
       "      <td>False</td>\n",
       "    </tr>\n",
       "    <tr>\n",
       "      <th>4</th>\n",
       "      <td>66048</td>\n",
       "      <td>496</td>\n",
       "      <td>47174</td>\n",
       "      <td>4</td>\n",
       "      <td>25.0</td>\n",
       "      <td>False</td>\n",
       "    </tr>\n",
       "    <tr>\n",
       "      <th>...</th>\n",
       "      <td>...</td>\n",
       "      <td>...</td>\n",
       "      <td>...</td>\n",
       "      <td>...</td>\n",
       "      <td>...</td>\n",
       "      <td>...</td>\n",
       "    </tr>\n",
       "    <tr>\n",
       "      <th>1995</th>\n",
       "      <td>92163</td>\n",
       "      <td>770</td>\n",
       "      <td>12251</td>\n",
       "      <td>13</td>\n",
       "      <td>85.0</td>\n",
       "      <td>True</td>\n",
       "    </tr>\n",
       "    <tr>\n",
       "      <th>1996</th>\n",
       "      <td>38799</td>\n",
       "      <td>635</td>\n",
       "      <td>48259</td>\n",
       "      <td>17</td>\n",
       "      <td>40.0</td>\n",
       "      <td>False</td>\n",
       "    </tr>\n",
       "    <tr>\n",
       "      <th>1997</th>\n",
       "      <td>41957</td>\n",
       "      <td>763</td>\n",
       "      <td>16752</td>\n",
       "      <td>5</td>\n",
       "      <td>60.0</td>\n",
       "      <td>True</td>\n",
       "    </tr>\n",
       "    <tr>\n",
       "      <th>1998</th>\n",
       "      <td>139022</td>\n",
       "      <td>360</td>\n",
       "      <td>24031</td>\n",
       "      <td>35</td>\n",
       "      <td>55.0</td>\n",
       "      <td>False</td>\n",
       "    </tr>\n",
       "    <tr>\n",
       "      <th>1999</th>\n",
       "      <td>41188</td>\n",
       "      <td>482</td>\n",
       "      <td>31397</td>\n",
       "      <td>6</td>\n",
       "      <td>20.0</td>\n",
       "      <td>False</td>\n",
       "    </tr>\n",
       "  </tbody>\n",
       "</table>\n",
       "<p>2000 rows × 6 columns</p>\n",
       "</div>"
      ],
      "text/plain": [
       "      income  credit_score  loan_amount  years_employed  points  loan_approved\n",
       "0     113810           389        39698              27    50.0          False\n",
       "1      44592           729        15446              28    55.0          False\n",
       "2      33278           584        11189              13    45.0          False\n",
       "3     127196           344        48823              29    50.0          False\n",
       "4      66048           496        47174               4    25.0          False\n",
       "...      ...           ...          ...             ...     ...            ...\n",
       "1995   92163           770        12251              13    85.0           True\n",
       "1996   38799           635        48259              17    40.0          False\n",
       "1997   41957           763        16752               5    60.0           True\n",
       "1998  139022           360        24031              35    55.0          False\n",
       "1999   41188           482        31397               6    20.0          False\n",
       "\n",
       "[2000 rows x 6 columns]"
      ]
     },
     "execution_count": 266,
     "metadata": {},
     "output_type": "execute_result"
    }
   ],
   "source": [
    "df = df.drop(columns=['name','city'])\n",
    "df"
   ]
  },
  {
   "cell_type": "code",
   "execution_count": 267,
   "id": "ff9ad771",
   "metadata": {},
   "outputs": [
    {
     "name": "stdout",
     "output_type": "stream",
     "text": [
      "(1200, 5) (1200,) (400, 5) (400, 5)\n"
     ]
    }
   ],
   "source": [
    "X_train ,X_temp,Y_train,Y_temp = train_test_split(df.drop('loan_approved',axis=1),df['loan_approved'],test_size=.4,random_state=69,stratify=df['loan_approved'])\n",
    "X_val,X_test,Y_val,Y_test = train_test_split(X_temp,Y_temp,test_size=.5,random_state=69,stratify=Y_temp)\n",
    "print(X_train.shape,Y_train.shape,X_val.shape,X_test.shape)"
   ]
  },
  {
   "cell_type": "code",
   "execution_count": 268,
   "id": "e14a7152",
   "metadata": {},
   "outputs": [],
   "source": [
    "from sklearn.preprocessing import MinMaxScaler\n",
    "scaler = MinMaxScaler()"
   ]
  },
  {
   "cell_type": "code",
   "execution_count": 269,
   "id": "e1c029c4",
   "metadata": {},
   "outputs": [],
   "source": [
    "X_train_scaled = scaler.fit_transform(X_train)\n",
    "X_val_scaled = scaler.transform(X_val)\n",
    "X_test_scaled = scaler.transform(X_test)"
   ]
  },
  {
   "cell_type": "code",
   "execution_count": 270,
   "id": "68a790be",
   "metadata": {},
   "outputs": [],
   "source": [
    "class dataset(Dataset):\n",
    "    def __init__(self,X,Y):\n",
    "        super().__init__()\n",
    "        self.X = torch.tensor(X,dtype=torch.float32).to(device)\n",
    "        self.Y= torch.tensor(Y,dtype=torch.float32).to(device)\n",
    "    \n",
    "    def __getitem__(self,index):\n",
    "        return self.X[index] , self.Y[index]\n",
    "    \n",
    "    def __len__(self):\n",
    "        return len(self.X)"
   ]
  },
  {
   "cell_type": "code",
   "execution_count": 271,
   "id": "d06d5b66",
   "metadata": {},
   "outputs": [],
   "source": [
    "train_dataset = dataset(X_train_scaled,Y_train.values)\n",
    "valid_dataset = dataset(X_val_scaled,Y_val.values)\n",
    "test_dataset = dataset(X_test_scaled,Y_test.values)"
   ]
  },
  {
   "cell_type": "code",
   "execution_count": 272,
   "id": "112b3966",
   "metadata": {},
   "outputs": [],
   "source": [
    "train_dataloader = DataLoader(train_dataset,batch_size=32,shuffle=True)\n",
    "valid_dataloader = DataLoader(valid_dataset,batch_size=32,shuffle=True)\n",
    "test_dataloader = DataLoader(test_dataset,batch_size=32,shuffle=True)"
   ]
  },
  {
   "cell_type": "code",
   "execution_count": 273,
   "id": "7a985e47",
   "metadata": {},
   "outputs": [],
   "source": [
    "class MyModel(nn.Module):\n",
    "    def __init__(self):\n",
    "        super().__init__()\n",
    "        self.input_layer = nn.Linear(df.drop('loan_approved',axis=1).shape[1],64)\n",
    "        self.linear = nn.Linear(64,16)\n",
    "        self.output = nn.Linear(16,1)\n",
    "\n",
    "        \n",
    "    def forward(self,x):\n",
    "        x = self.output(self.linear(self.input_layer(x)))\n",
    "        return x"
   ]
  },
  {
   "cell_type": "code",
   "execution_count": 274,
   "id": "bd8c0902",
   "metadata": {},
   "outputs": [],
   "source": [
    "model = MyModel().to(device)"
   ]
  },
  {
   "cell_type": "code",
   "execution_count": 275,
   "id": "bb26896d",
   "metadata": {},
   "outputs": [
    {
     "name": "stdout",
     "output_type": "stream",
     "text": [
      "----------------------------------------------------------------\n",
      "        Layer (type)               Output Shape         Param #\n",
      "================================================================\n",
      "            Linear-1                   [-1, 64]             384\n",
      "            Linear-2                   [-1, 16]           1,040\n",
      "            Linear-3                    [-1, 1]              17\n",
      "================================================================\n",
      "Total params: 1,441\n",
      "Trainable params: 1,441\n",
      "Non-trainable params: 0\n",
      "----------------------------------------------------------------\n",
      "Input size (MB): 0.00\n",
      "Forward/backward pass size (MB): 0.00\n",
      "Params size (MB): 0.01\n",
      "Estimated Total Size (MB): 0.01\n",
      "----------------------------------------------------------------\n"
     ]
    }
   ],
   "source": [
    "summary(model,(df.drop('loan_approved',axis=1).shape[1],))"
   ]
  },
  {
   "cell_type": "code",
   "execution_count": 276,
   "id": "bee930ba",
   "metadata": {},
   "outputs": [],
   "source": [
    "critertion = nn.BCEWithLogitsLoss()\n",
    "optimizer = Adam(model.parameters(),lr=2e-3)\n"
   ]
  },
  {
   "cell_type": "code",
   "execution_count": 277,
   "id": "3454aeaa",
   "metadata": {},
   "outputs": [
    {
     "name": "stdout",
     "output_type": "stream",
     "text": [
      "Epoch:1 Train Loss : 0.5882, Train Acc : 75.5833%\n",
      "Epoch:1 Val Loss : 0.4668, Val Acc : 87.75%\n",
      "=======================================================\n",
      "Epoch:2 Train Loss : 0.3526, Train Acc : 89.0%\n",
      "Epoch:2 Val Loss : 0.2788, Val Acc : 89.5%\n",
      "=======================================================\n",
      "Epoch:3 Train Loss : 0.2262, Train Acc : 90.5833%\n",
      "Epoch:3 Val Loss : 0.2253, Val Acc : 89.75%\n",
      "=======================================================\n",
      "Epoch:4 Train Loss : 0.1804, Train Acc : 93.0%\n",
      "Epoch:4 Val Loss : 0.1855, Val Acc : 92.25%\n",
      "=======================================================\n",
      "Epoch:5 Train Loss : 0.1546, Train Acc : 93.9167%\n",
      "Epoch:5 Val Loss : 0.1704, Val Acc : 91.75%\n",
      "=======================================================\n",
      "Epoch:6 Train Loss : 0.138, Train Acc : 94.5%\n",
      "Epoch:6 Val Loss : 0.1512, Val Acc : 94.0%\n",
      "=======================================================\n",
      "Epoch:7 Train Loss : 0.1292, Train Acc : 94.8333%\n",
      "Epoch:7 Val Loss : 0.1433, Val Acc : 94.25%\n",
      "=======================================================\n",
      "Epoch:8 Train Loss : 0.1199, Train Acc : 95.1667%\n",
      "Epoch:8 Val Loss : 0.1384, Val Acc : 94.5%\n",
      "=======================================================\n",
      "Epoch:9 Train Loss : 0.1124, Train Acc : 95.3333%\n",
      "Epoch:9 Val Loss : 0.1445, Val Acc : 94.0%\n",
      "=======================================================\n",
      "Epoch:10 Train Loss : 0.1154, Train Acc : 94.75%\n",
      "Epoch:10 Val Loss : 0.1287, Val Acc : 95.0%\n",
      "=======================================================\n",
      "Epoch:11 Train Loss : 0.1106, Train Acc : 95.1667%\n",
      "Epoch:11 Val Loss : 0.1091, Val Acc : 94.75%\n",
      "=======================================================\n",
      "Epoch:12 Train Loss : 0.1, Train Acc : 95.75%\n",
      "Epoch:12 Val Loss : 0.1178, Val Acc : 94.75%\n",
      "=======================================================\n",
      "Epoch:13 Train Loss : 0.0846, Train Acc : 96.8333%\n",
      "Epoch:13 Val Loss : 0.095, Val Acc : 96.25%\n",
      "=======================================================\n",
      "Epoch:14 Train Loss : 0.0793, Train Acc : 96.75%\n",
      "Epoch:14 Val Loss : 0.0956, Val Acc : 95.5%\n",
      "=======================================================\n",
      "Epoch:15 Train Loss : 0.0754, Train Acc : 97.0833%\n",
      "Epoch:15 Val Loss : 0.08, Val Acc : 96.25%\n",
      "=======================================================\n",
      "Epoch:16 Train Loss : 0.0696, Train Acc : 97.8333%\n",
      "Epoch:16 Val Loss : 0.0723, Val Acc : 97.0%\n",
      "=======================================================\n",
      "Epoch:17 Train Loss : 0.0625, Train Acc : 98.1667%\n",
      "Epoch:17 Val Loss : 0.063, Val Acc : 97.75%\n",
      "=======================================================\n",
      "Epoch:18 Train Loss : 0.058, Train Acc : 98.3333%\n",
      "Epoch:18 Val Loss : 0.0613, Val Acc : 97.25%\n",
      "=======================================================\n",
      "Epoch:19 Train Loss : 0.0554, Train Acc : 98.75%\n",
      "Epoch:19 Val Loss : 0.0631, Val Acc : 97.5%\n",
      "=======================================================\n",
      "Epoch:20 Train Loss : 0.0476, Train Acc : 99.0%\n",
      "Epoch:20 Val Loss : 0.0549, Val Acc : 98.5%\n",
      "=======================================================\n"
     ]
    }
   ],
   "source": [
    "EPOCHS = 20\n",
    "total_loss_train_plot = []\n",
    "total_loss_validation_plot = []\n",
    "total_acc_train_plot = []\n",
    "total_acc_validation_plot = []\n",
    "\n",
    "for epoch in range(EPOCHS):\n",
    "    total_acc_train = 0\n",
    "    total_loss_train = 0 \n",
    "    total_acc_val = 0\n",
    "    total_loss_val = 0\n",
    "    model.train()\n",
    "    for input,label in train_dataloader:\n",
    "        input ,label = input.to(device),label.to(device)\n",
    "        optimizer.zero_grad()\n",
    "        pred = model(input).squeeze(1)\n",
    "        batch_loss = critertion(pred,label)\n",
    "        total_loss_train +=batch_loss.item()\n",
    "        batch_loss.backward()\n",
    "\n",
    "        preds = torch.sigmoid(pred)\n",
    "        acc = (preds.round()==label).sum().item()\n",
    "        total_acc_train +=acc\n",
    "        \n",
    "        optimizer.step()\n",
    "\n",
    "    with torch.no_grad():\n",
    "        model.eval()\n",
    "        for input,label in valid_dataloader:\n",
    "            input ,label = input.to(device),label.to(device)\n",
    "            pred = model(input).squeeze(1)\n",
    "            batch_loss = critertion(pred,label)\n",
    "            total_loss_val +=batch_loss.item()\n",
    "\n",
    "            preds = torch.sigmoid(pred)\n",
    "            acc = (preds.round()==label).sum().item()\n",
    "            total_acc_val +=acc\n",
    "\n",
    "    total_loss_train_plot.append(round(total_loss_train/len(train_dataloader),4))\n",
    "    total_loss_validation_plot.append(round(total_loss_val/len(valid_dataloader),4))\n",
    "    \n",
    "    total_acc_train_plot.append(round(total_acc_train/len(train_dataset)*100,4))\n",
    "    total_acc_validation_plot.append(round(total_acc_val/len(valid_dataset)*100,4))\n",
    "    \n",
    "\n",
    "    print(f'Epoch:{epoch+1} Train Loss : {total_loss_train_plot[epoch]}, Train Acc : {total_acc_train_plot[epoch]}%')\n",
    "    print(f'Epoch:{epoch+1} Val Loss : {total_loss_validation_plot[epoch]}, Val Acc : {total_acc_validation_plot[epoch]}%')\n",
    "    print('='*55)\n"
   ]
  },
  {
   "cell_type": "code",
   "execution_count": 278,
   "id": "8cfb1450",
   "metadata": {},
   "outputs": [],
   "source": [
    "all_preds = []\n",
    "all_labels=[]\n",
    "with torch.no_grad():\n",
    "    model.eval()\n",
    "    total_loss_test =0\n",
    "    total_acc_test = 0\n",
    "    for input,label in test_dataloader:\n",
    "        input,label = input.to(device),label.to(device)\n",
    "        pred = model(input).squeeze(1)\n",
    "        probs = torch.sigmoid(pred)\n",
    "        preds = probs.round()\n",
    "        \n",
    "        all_preds.append(preds.cpu())\n",
    "        all_labels.append(label.cpu())\n",
    "        \n",
    "        \n",
    "all_preds = torch.cat(all_preds).numpy()\n",
    "all_labels = torch.cat(all_labels).numpy()"
   ]
  },
  {
   "cell_type": "code",
   "execution_count": 279,
   "id": "0f97bbd5",
   "metadata": {},
   "outputs": [
    {
     "name": "stdout",
     "output_type": "stream",
     "text": [
      "              precision    recall  f1-score   support\n",
      "\n",
      " No Diabetes       1.00      0.96      0.98       224\n",
      "    Diabetes       0.95      1.00      0.97       176\n",
      "\n",
      "    accuracy                           0.97       400\n",
      "   macro avg       0.97      0.98      0.97       400\n",
      "weighted avg       0.98      0.97      0.98       400\n",
      "\n"
     ]
    }
   ],
   "source": [
    "from sklearn.metrics import classification_report\n",
    "cm=classification_report(all_labels,all_preds,target_names=['No Diabetes','Diabetes'])\n",
    "print(cm)"
   ]
  }
 ],
 "metadata": {
  "kernelspec": {
   "display_name": "MLvenv",
   "language": "python",
   "name": "python3"
  },
  "language_info": {
   "codemirror_mode": {
    "name": "ipython",
    "version": 3
   },
   "file_extension": ".py",
   "mimetype": "text/x-python",
   "name": "python",
   "nbconvert_exporter": "python",
   "pygments_lexer": "ipython3",
   "version": "3.10.0"
  }
 },
 "nbformat": 4,
 "nbformat_minor": 5
}
