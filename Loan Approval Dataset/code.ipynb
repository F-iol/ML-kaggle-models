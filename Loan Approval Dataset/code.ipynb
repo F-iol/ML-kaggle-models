{
 "cells": [
  {
   "cell_type": "markdown",
   "id": "6a03e38a",
   "metadata": {},
   "source": [
    "https://www.kaggle.com/datasets/anishdevedward/loan-approval-dataset/data"
   ]
  },
  {
   "cell_type": "code",
   "execution_count": 90,
   "id": "11288512",
   "metadata": {},
   "outputs": [],
   "source": [
    "import os\n",
    "import numpy as np\n",
    "import pandas as pd\n",
    "import warnings \n",
    "import seaborn as sns\n",
    "import matplotlib.pyplot as plt\n",
    "import plotly.express as px\n",
    "from sklearn import preprocessing\n",
    "import matplotlib\n",
    "matplotlib.style.use('ggplot')\n",
    "from sklearn.preprocessing import LabelEncoder\n",
    "warnings.filterwarnings('ignore')\n",
    "pd.set_option('display.max_rows',None)"
   ]
  },
  {
   "cell_type": "code",
   "execution_count": 91,
   "id": "9a509a64",
   "metadata": {},
   "outputs": [],
   "source": [
    "df = pd.read_csv('loan_approval.csv')\n",
    "df.head(3)\n",
    "orginal_df = df.copy()"
   ]
  },
  {
   "cell_type": "code",
   "execution_count": 92,
   "id": "43c34067",
   "metadata": {},
   "outputs": [
    {
     "data": {
      "text/plain": [
       "name              0\n",
       "city              0\n",
       "income            0\n",
       "credit_score      0\n",
       "loan_amount       0\n",
       "years_employed    0\n",
       "points            0\n",
       "loan_approved     0\n",
       "dtype: int64"
      ]
     },
     "execution_count": 92,
     "metadata": {},
     "output_type": "execute_result"
    }
   ],
   "source": [
    "df.drop_duplicates(inplace=True)\n",
    "df.isnull().sum()"
   ]
  },
  {
   "cell_type": "code",
   "execution_count": 93,
   "id": "5b9669ea",
   "metadata": {},
   "outputs": [],
   "source": [
    "df.city.nunique()\n",
    "df.name.nunique()\n",
    "df = df.drop(columns=['name','city'])"
   ]
  },
  {
   "cell_type": "code",
   "execution_count": 94,
   "id": "24cd794a",
   "metadata": {},
   "outputs": [
    {
     "data": {
      "text/html": [
       "<div>\n",
       "<style scoped>\n",
       "    .dataframe tbody tr th:only-of-type {\n",
       "        vertical-align: middle;\n",
       "    }\n",
       "\n",
       "    .dataframe tbody tr th {\n",
       "        vertical-align: top;\n",
       "    }\n",
       "\n",
       "    .dataframe thead th {\n",
       "        text-align: right;\n",
       "    }\n",
       "</style>\n",
       "<table border=\"1\" class=\"dataframe\">\n",
       "  <thead>\n",
       "    <tr style=\"text-align: right;\">\n",
       "      <th></th>\n",
       "      <th>income</th>\n",
       "      <th>credit_score</th>\n",
       "      <th>loan_amount</th>\n",
       "      <th>years_employed</th>\n",
       "      <th>points</th>\n",
       "      <th>loan_approved</th>\n",
       "    </tr>\n",
       "  </thead>\n",
       "  <tbody>\n",
       "    <tr>\n",
       "      <th>0</th>\n",
       "      <td>113810</td>\n",
       "      <td>389</td>\n",
       "      <td>39698</td>\n",
       "      <td>27</td>\n",
       "      <td>50.0</td>\n",
       "      <td>False</td>\n",
       "    </tr>\n",
       "  </tbody>\n",
       "</table>\n",
       "</div>"
      ],
      "text/plain": [
       "   income  credit_score  loan_amount  years_employed  points  loan_approved\n",
       "0  113810           389        39698              27    50.0          False"
      ]
     },
     "execution_count": 94,
     "metadata": {},
     "output_type": "execute_result"
    }
   ],
   "source": [
    "df.head(1)"
   ]
  },
  {
   "cell_type": "code",
   "execution_count": 95,
   "id": "96042192",
   "metadata": {},
   "outputs": [],
   "source": [
    "num_col = [x for x in df.columns if df[x].dtypes !=object]\n",
    "num_col.remove('loan_approved')\n",
    "target = 'loan_approved'"
   ]
  },
  {
   "cell_type": "code",
   "execution_count": 96,
   "id": "eb476ad9",
   "metadata": {},
   "outputs": [],
   "source": [
    "input_df  = df[num_col]\n",
    "target_df = df[target].values"
   ]
  },
  {
   "cell_type": "code",
   "execution_count": 97,
   "id": "dc9be185",
   "metadata": {},
   "outputs": [
    {
     "data": {
      "text/plain": [
       "<Axes: >"
      ]
     },
     "execution_count": 97,
     "metadata": {},
     "output_type": "execute_result"
    },
    {
     "data": {
      "image/png": "[encoded data removed]",
      "text/plain": [
       "<Figure size 640x480 with 2 Axes>"
      ]
     },
     "metadata": {},
     "output_type": "display_data"
    }
   ],
   "source": [
    "sns.heatmap(df.corr(numeric_only=True)['loan_approved'].to_frame().drop('loan_approved').sort_values('loan_approved',ascending=False),cmap='viridis')"
   ]
  },
  {
   "cell_type": "code",
   "execution_count": 98,
   "id": "3462ecd6",
   "metadata": {},
   "outputs": [],
   "source": [
    "from sklearn import model_selection\n",
    "from sklearn.metrics import confusion_matrix,classification_report,accuracy_score,roc_auc_score\n",
    "from sklearn.preprocessing import MinMaxScaler\n"
   ]
  },
  {
   "cell_type": "code",
   "execution_count": 99,
   "id": "18a2dc38",
   "metadata": {},
   "outputs": [],
   "source": [
    "from sklearn.ensemble import RandomForestClassifier, GradientBoostingClassifier, AdaBoostClassifier\n",
    "from sklearn.svm import SVC\n",
    "from sklearn.linear_model import LogisticRegression\n"
   ]
  },
  {
   "cell_type": "code",
   "execution_count": 100,
   "id": "61bdac40",
   "metadata": {},
   "outputs": [],
   "source": [
    "models = {'LogisticRegression': LogisticRegression(random_state=69),\n",
    "    'SVC':SVC(random_state=69,kernel='rbf'),\n",
    "    'RandomForestClassifier':RandomForestClassifier(random_state=69),\n",
    "    'GradientBoostingClassifier':GradientBoostingClassifier(random_state=69),\n",
    "    'AdaBoostClassifier':AdaBoostClassifier(random_state=69)}\n"
   ]
  },
  {
   "cell_type": "code",
   "execution_count": 101,
   "id": "70cdfbeb",
   "metadata": {},
   "outputs": [
    {
     "name": "stdout",
     "output_type": "stream",
     "text": [
      "              precision    recall  f1-score   support\n",
      "\n",
      "       False       0.95      0.97      0.96      1121\n",
      "        True       0.96      0.94      0.95       879\n",
      "\n",
      "    accuracy                           0.96      2000\n",
      "   macro avg       0.96      0.95      0.96      2000\n",
      "weighted avg       0.96      0.96      0.96      2000\n",
      "\n",
      "The model is LogisticRegression and acc is 95.44%\n",
      "\n",
      "\n",
      "              precision    recall  f1-score   support\n",
      "\n",
      "       False       0.99      0.98      0.99      1121\n",
      "        True       0.98      0.99      0.99       879\n",
      "\n",
      "    accuracy                           0.99      2000\n",
      "   macro avg       0.99      0.99      0.99      2000\n",
      "weighted avg       0.99      0.99      0.99      2000\n",
      "\n",
      "The model is SVC and acc is 98.8%\n",
      "\n",
      "\n",
      "              precision    recall  f1-score   support\n",
      "\n",
      "       False       1.00      1.00      1.00      1121\n",
      "        True       1.00      1.00      1.00       879\n",
      "\n",
      "    accuracy                           1.00      2000\n",
      "   macro avg       1.00      1.00      1.00      2000\n",
      "weighted avg       1.00      1.00      1.00      2000\n",
      "\n",
      "The model is RandomForestClassifier and acc is 100.0%\n",
      "\n",
      "\n",
      "              precision    recall  f1-score   support\n",
      "\n",
      "       False       1.00      1.00      1.00      1121\n",
      "        True       1.00      1.00      1.00       879\n",
      "\n",
      "    accuracy                           1.00      2000\n",
      "   macro avg       1.00      1.00      1.00      2000\n",
      "weighted avg       1.00      1.00      1.00      2000\n",
      "\n",
      "The model is GradientBoostingClassifier and acc is 100.0%\n",
      "\n",
      "\n",
      "              precision    recall  f1-score   support\n",
      "\n",
      "       False       1.00      1.00      1.00      1121\n",
      "        True       1.00      1.00      1.00       879\n",
      "\n",
      "    accuracy                           1.00      2000\n",
      "   macro avg       1.00      1.00      1.00      2000\n",
      "weighted avg       1.00      1.00      1.00      2000\n",
      "\n",
      "The model is AdaBoostClassifier and acc is 100.0%\n",
      "\n",
      "\n"
     ]
    }
   ],
   "source": [
    "results = []\n",
    "kf = model_selection.StratifiedKFold(n_splits=5)\n",
    "\n",
    "for name,model in models.items():\n",
    "    y_valid_all = []\n",
    "    y_pred_all =[]\n",
    "\n",
    "    for fold ,(tra_,val_) in enumerate(kf.split(X=df,y=target_df)):\n",
    "        X_train = df.loc[tra_,num_col]\n",
    "        y_train = df.loc[tra_,target]\n",
    "\n",
    "        X_valid = df.loc[val_,num_col]\n",
    "        y_valid=df.loc[val_,target]\n",
    "\n",
    "        ro_scaler = MinMaxScaler()\n",
    "        X_train=ro_scaler.fit_transform(X_train)\n",
    "        X_valid=ro_scaler.transform(X_valid)\n",
    "\n",
    "        model.fit(X_train,y_train)\n",
    "        y_pred = model.predict(X_valid)\n",
    "        y_valid_all.extend(y_valid)\n",
    "        y_pred_all.extend(y_pred)\n",
    "\n",
    "\n",
    "    print(classification_report(y_valid_all,y_pred_all))\n",
    "    acc = roc_auc_score(y_valid_all,y_pred_all)\n",
    "    print(f'The model is {name} and acc is {round(acc*100,2)}%')\n",
    "    print('\\n')\n",
    "    results.append({'model':name,'roc_auc_score':acc})\n",
    "\n",
    "    "
   ]
  },
  {
   "cell_type": "code",
   "execution_count": 102,
   "id": "1b024d3b",
   "metadata": {},
   "outputs": [
    {
     "name": "stdout",
     "output_type": "stream",
     "text": [
      "Best model is: {'model': 'RandomForestClassifier', 'roc_auc_score': 1.0}\n"
     ]
    }
   ],
   "source": [
    "best_model = max(results,key=lambda x:x['roc_auc_score'])\n",
    "print(f'Best model is: {best_model}')"
   ]
  },
  {
   "cell_type": "code",
   "execution_count": null,
   "id": "c0baf302",
   "metadata": {},
   "outputs": [],
   "source": []
  }
 ],
 "metadata": {
  "kernelspec": {
   "display_name": "MLvenv",
   "language": "python",
   "name": "python3"
  },
  "language_info": {
   "codemirror_mode": {
    "name": "ipython",
    "version": 3
   },
   "file_extension": ".py",
   "mimetype": "text/x-python",
   "name": "python",
   "nbconvert_exporter": "python",
   "pygments_lexer": "ipython3",
   "version": "3.10.0"
  }
 },
 "nbformat": 4,
 "nbformat_minor": 5
}
