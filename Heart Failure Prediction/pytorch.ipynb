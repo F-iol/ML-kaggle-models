{
 "cells": [
  {
   "cell_type": "code",
   "execution_count": 380,
   "id": "f6f2f091",
   "metadata": {},
   "outputs": [],
   "source": [
    "import pandas as pd\n",
    "import torch\n",
    "import torch.nn as nn\n",
    "from torch.optim import Adam\n",
    "from torch.utils.data import Dataset,DataLoader\n",
    "from torchsummary import summary\n",
    "from sklearn.model_selection import train_test_split\n",
    "from sklearn.metrics import accuracy_score\n",
    "import matplotlib.pyplot as plt\n",
    "import seaborn as sns\n",
    "import numpy as np"
   ]
  },
  {
   "cell_type": "code",
   "execution_count": 381,
   "id": "4daf7db6",
   "metadata": {},
   "outputs": [],
   "source": [
    "device = 'cuda' if  torch.cuda.is_available() else 'cpu'"
   ]
  },
  {
   "cell_type": "code",
   "execution_count": 382,
   "id": "1df89122",
   "metadata": {},
   "outputs": [
    {
     "data": {
      "text/plain": [
       "'cpu'"
      ]
     },
     "execution_count": 382,
     "metadata": {},
     "output_type": "execute_result"
    }
   ],
   "source": [
    "device"
   ]
  },
  {
   "cell_type": "code",
   "execution_count": 383,
   "id": "6f786c3e",
   "metadata": {},
   "outputs": [
    {
     "data": {
      "text/html": [
       "<div>\n",
       "<style scoped>\n",
       "    .dataframe tbody tr th:only-of-type {\n",
       "        vertical-align: middle;\n",
       "    }\n",
       "\n",
       "    .dataframe tbody tr th {\n",
       "        vertical-align: top;\n",
       "    }\n",
       "\n",
       "    .dataframe thead th {\n",
       "        text-align: right;\n",
       "    }\n",
       "</style>\n",
       "<table border=\"1\" class=\"dataframe\">\n",
       "  <thead>\n",
       "    <tr style=\"text-align: right;\">\n",
       "      <th></th>\n",
       "      <th>Age</th>\n",
       "      <th>Sex</th>\n",
       "      <th>ChestPainType</th>\n",
       "      <th>RestingBP</th>\n",
       "      <th>Cholesterol</th>\n",
       "      <th>FastingBS</th>\n",
       "      <th>RestingECG</th>\n",
       "      <th>MaxHR</th>\n",
       "      <th>ExerciseAngina</th>\n",
       "      <th>Oldpeak</th>\n",
       "      <th>ST_Slope</th>\n",
       "      <th>HeartDisease</th>\n",
       "    </tr>\n",
       "  </thead>\n",
       "  <tbody>\n",
       "    <tr>\n",
       "      <th>0</th>\n",
       "      <td>40</td>\n",
       "      <td>M</td>\n",
       "      <td>ATA</td>\n",
       "      <td>140</td>\n",
       "      <td>289</td>\n",
       "      <td>0</td>\n",
       "      <td>Normal</td>\n",
       "      <td>172</td>\n",
       "      <td>N</td>\n",
       "      <td>0.0</td>\n",
       "      <td>Up</td>\n",
       "      <td>0</td>\n",
       "    </tr>\n",
       "    <tr>\n",
       "      <th>1</th>\n",
       "      <td>49</td>\n",
       "      <td>F</td>\n",
       "      <td>NAP</td>\n",
       "      <td>160</td>\n",
       "      <td>180</td>\n",
       "      <td>0</td>\n",
       "      <td>Normal</td>\n",
       "      <td>156</td>\n",
       "      <td>N</td>\n",
       "      <td>1.0</td>\n",
       "      <td>Flat</td>\n",
       "      <td>1</td>\n",
       "    </tr>\n",
       "    <tr>\n",
       "      <th>2</th>\n",
       "      <td>37</td>\n",
       "      <td>M</td>\n",
       "      <td>ATA</td>\n",
       "      <td>130</td>\n",
       "      <td>283</td>\n",
       "      <td>0</td>\n",
       "      <td>ST</td>\n",
       "      <td>98</td>\n",
       "      <td>N</td>\n",
       "      <td>0.0</td>\n",
       "      <td>Up</td>\n",
       "      <td>0</td>\n",
       "    </tr>\n",
       "  </tbody>\n",
       "</table>\n",
       "</div>"
      ],
      "text/plain": [
       "   Age Sex ChestPainType  RestingBP  Cholesterol  FastingBS RestingECG  MaxHR  \\\n",
       "0   40   M           ATA        140          289          0     Normal    172   \n",
       "1   49   F           NAP        160          180          0     Normal    156   \n",
       "2   37   M           ATA        130          283          0         ST     98   \n",
       "\n",
       "  ExerciseAngina  Oldpeak ST_Slope  HeartDisease  \n",
       "0              N      0.0       Up             0  \n",
       "1              N      1.0     Flat             1  \n",
       "2              N      0.0       Up             0  "
      ]
     },
     "execution_count": 383,
     "metadata": {},
     "output_type": "execute_result"
    }
   ],
   "source": [
    "df = pd.read_csv('heart.csv')\n",
    "df.head(3)"
   ]
  },
  {
   "cell_type": "code",
   "execution_count": 384,
   "id": "3c64e054",
   "metadata": {},
   "outputs": [],
   "source": [
    "encoded_df = pd.get_dummies(df,columns=['Sex','ChestPainType','RestingECG','MaxHR','ExerciseAngina','ST_Slope']).astype(int)"
   ]
  },
  {
   "cell_type": "code",
   "execution_count": 385,
   "id": "baafe03c",
   "metadata": {},
   "outputs": [
    {
     "data": {
      "text/html": [
       "<div>\n",
       "<style scoped>\n",
       "    .dataframe tbody tr th:only-of-type {\n",
       "        vertical-align: middle;\n",
       "    }\n",
       "\n",
       "    .dataframe tbody tr th {\n",
       "        vertical-align: top;\n",
       "    }\n",
       "\n",
       "    .dataframe thead th {\n",
       "        text-align: right;\n",
       "    }\n",
       "</style>\n",
       "<table border=\"1\" class=\"dataframe\">\n",
       "  <thead>\n",
       "    <tr style=\"text-align: right;\">\n",
       "      <th></th>\n",
       "      <th>Age</th>\n",
       "      <th>RestingBP</th>\n",
       "      <th>Cholesterol</th>\n",
       "      <th>FastingBS</th>\n",
       "      <th>Oldpeak</th>\n",
       "      <th>HeartDisease</th>\n",
       "      <th>Sex_F</th>\n",
       "      <th>Sex_M</th>\n",
       "      <th>ChestPainType_ASY</th>\n",
       "      <th>ChestPainType_ATA</th>\n",
       "      <th>...</th>\n",
       "      <th>MaxHR_190</th>\n",
       "      <th>MaxHR_192</th>\n",
       "      <th>MaxHR_194</th>\n",
       "      <th>MaxHR_195</th>\n",
       "      <th>MaxHR_202</th>\n",
       "      <th>ExerciseAngina_N</th>\n",
       "      <th>ExerciseAngina_Y</th>\n",
       "      <th>ST_Slope_Down</th>\n",
       "      <th>ST_Slope_Flat</th>\n",
       "      <th>ST_Slope_Up</th>\n",
       "    </tr>\n",
       "  </thead>\n",
       "  <tbody>\n",
       "    <tr>\n",
       "      <th>0</th>\n",
       "      <td>40</td>\n",
       "      <td>140</td>\n",
       "      <td>289</td>\n",
       "      <td>0</td>\n",
       "      <td>0</td>\n",
       "      <td>0</td>\n",
       "      <td>0</td>\n",
       "      <td>1</td>\n",
       "      <td>0</td>\n",
       "      <td>1</td>\n",
       "      <td>...</td>\n",
       "      <td>0</td>\n",
       "      <td>0</td>\n",
       "      <td>0</td>\n",
       "      <td>0</td>\n",
       "      <td>0</td>\n",
       "      <td>1</td>\n",
       "      <td>0</td>\n",
       "      <td>0</td>\n",
       "      <td>0</td>\n",
       "      <td>1</td>\n",
       "    </tr>\n",
       "    <tr>\n",
       "      <th>1</th>\n",
       "      <td>49</td>\n",
       "      <td>160</td>\n",
       "      <td>180</td>\n",
       "      <td>0</td>\n",
       "      <td>1</td>\n",
       "      <td>1</td>\n",
       "      <td>1</td>\n",
       "      <td>0</td>\n",
       "      <td>0</td>\n",
       "      <td>0</td>\n",
       "      <td>...</td>\n",
       "      <td>0</td>\n",
       "      <td>0</td>\n",
       "      <td>0</td>\n",
       "      <td>0</td>\n",
       "      <td>0</td>\n",
       "      <td>1</td>\n",
       "      <td>0</td>\n",
       "      <td>0</td>\n",
       "      <td>1</td>\n",
       "      <td>0</td>\n",
       "    </tr>\n",
       "  </tbody>\n",
       "</table>\n",
       "<p>2 rows × 139 columns</p>\n",
       "</div>"
      ],
      "text/plain": [
       "   Age  RestingBP  Cholesterol  FastingBS  Oldpeak  HeartDisease  Sex_F  \\\n",
       "0   40        140          289          0        0             0      0   \n",
       "1   49        160          180          0        1             1      1   \n",
       "\n",
       "   Sex_M  ChestPainType_ASY  ChestPainType_ATA  ...  MaxHR_190  MaxHR_192  \\\n",
       "0      1                  0                  1  ...          0          0   \n",
       "1      0                  0                  0  ...          0          0   \n",
       "\n",
       "   MaxHR_194  MaxHR_195  MaxHR_202  ExerciseAngina_N  ExerciseAngina_Y  \\\n",
       "0          0          0          0                 1                 0   \n",
       "1          0          0          0                 1                 0   \n",
       "\n",
       "   ST_Slope_Down  ST_Slope_Flat  ST_Slope_Up  \n",
       "0              0              0            1  \n",
       "1              0              1            0  \n",
       "\n",
       "[2 rows x 139 columns]"
      ]
     },
     "execution_count": 385,
     "metadata": {},
     "output_type": "execute_result"
    }
   ],
   "source": [
    "encoded_df.head(2)"
   ]
  },
  {
   "cell_type": "code",
   "execution_count": 386,
   "id": "26dc3a40",
   "metadata": {},
   "outputs": [],
   "source": [
    "X_train,X_temp,Y_train,Y_temp = train_test_split(encoded_df.drop('HeartDisease',axis=1),encoded_df['HeartDisease'],test_size=.4,random_state=69)\n",
    "X_val,X_test,Y_val,Y_test = train_test_split(X_temp,Y_temp,test_size=.5,random_state=69)"
   ]
  },
  {
   "cell_type": "code",
   "execution_count": 387,
   "id": "aa1dc841",
   "metadata": {},
   "outputs": [],
   "source": [
    "from sklearn.preprocessing import MinMaxScaler\n",
    "scaler = MinMaxScaler()"
   ]
  },
  {
   "cell_type": "code",
   "execution_count": 388,
   "id": "fa183597",
   "metadata": {},
   "outputs": [],
   "source": [
    "X_train_scaled = scaler.fit_transform(X_train)\n",
    "X_valid_scaled = scaler.transform(X_val)\n",
    "X_test_scaled = scaler.transform(X_test)"
   ]
  },
  {
   "cell_type": "code",
   "execution_count": 389,
   "id": "bbfe77af",
   "metadata": {},
   "outputs": [],
   "source": [
    "class dataset(Dataset):\n",
    "    def __init__(self,X,Y):\n",
    "        self.X = torch.tensor(X,dtype=torch.float32).to(device)\n",
    "        self.Y = torch.tensor(Y,dtype=torch.float32).to(device)\n",
    "        \n",
    "    def __len__(self):\n",
    "        return len(self.X)\n",
    "    \n",
    "    def __getitem__(self, index):\n",
    "        return self.X[index],self.Y[index]"
   ]
  },
  {
   "cell_type": "code",
   "execution_count": 390,
   "id": "07040b11",
   "metadata": {},
   "outputs": [],
   "source": [
    "train_dataset = dataset(X_train_scaled,Y_train.values)\n",
    "val_dataset = dataset(X_valid_scaled,Y_val.values)\n",
    "test_dataset = dataset(X_test_scaled,Y_test.values)"
   ]
  },
  {
   "cell_type": "code",
   "execution_count": 391,
   "id": "73d5a2b2",
   "metadata": {},
   "outputs": [],
   "source": [
    "train_dataloader = DataLoader(train_dataset,batch_size=32,shuffle=True)\n",
    "val_dataloader = DataLoader(val_dataset,batch_size=32,shuffle=True)\n",
    "test_dataloader = DataLoader(test_dataset,batch_size=32,shuffle=True)"
   ]
  },
  {
   "cell_type": "code",
   "execution_count": 392,
   "id": "29d557b7",
   "metadata": {},
   "outputs": [],
   "source": [
    "HIDDEN_NEURON = 50\n",
    "class MyModel(nn.Module):\n",
    "    def __init__(self):\n",
    "        super().__init__()\n",
    "        self.input_layer = nn.Linear(encoded_df.drop('HeartDisease',axis=1).shape[1],HIDDEN_NEURON)\n",
    "        self.linear = nn.Linear(HIDDEN_NEURON,1)\n",
    "        self.sigmoid = nn.Sigmoid()\n",
    "        \n",
    "    def forward(self,x):\n",
    "        x = self.input_layer(x)\n",
    "        x = self.linear(x)\n",
    "        x = self.sigmoid(x)\n",
    "        return x\n",
    "    \n",
    "        "
   ]
  },
  {
   "cell_type": "code",
   "execution_count": 393,
   "id": "71423cb8",
   "metadata": {},
   "outputs": [],
   "source": [
    "model = MyModel().to(device)"
   ]
  },
  {
   "cell_type": "code",
   "execution_count": 394,
   "id": "ce75bf47",
   "metadata": {},
   "outputs": [
    {
     "name": "stdout",
     "output_type": "stream",
     "text": [
      "----------------------------------------------------------------\n",
      "        Layer (type)               Output Shape         Param #\n",
      "================================================================\n",
      "            Linear-1                   [-1, 50]           6,950\n",
      "            Linear-2                    [-1, 1]              51\n",
      "           Sigmoid-3                    [-1, 1]               0\n",
      "================================================================\n",
      "Total params: 7,001\n",
      "Trainable params: 7,001\n",
      "Non-trainable params: 0\n",
      "----------------------------------------------------------------\n",
      "Input size (MB): 0.00\n",
      "Forward/backward pass size (MB): 0.00\n",
      "Params size (MB): 0.03\n",
      "Estimated Total Size (MB): 0.03\n",
      "----------------------------------------------------------------\n"
     ]
    }
   ],
   "source": [
    "summary(model,(encoded_df.drop('HeartDisease',axis=1).shape[1],))"
   ]
  },
  {
   "cell_type": "code",
   "execution_count": 395,
   "id": "ac467ab2",
   "metadata": {},
   "outputs": [],
   "source": [
    "criterion =nn.BCELoss()\n",
    "optimazer = Adam(model.parameters(),lr=1e-3)"
   ]
  },
  {
   "cell_type": "code",
   "execution_count": 396,
   "id": "b48706f0",
   "metadata": {},
   "outputs": [],
   "source": [
    "total_loss_train_plot = []\n",
    "total_loss_validation_plot = []\n",
    "total_acc_train_plot = []\n",
    "total_acc_validation_plot = []\n"
   ]
  },
  {
   "cell_type": "code",
   "execution_count": 397,
   "id": "4d6d43f5",
   "metadata": {},
   "outputs": [
    {
     "name": "stdout",
     "output_type": "stream",
     "text": [
      "Epoch no.1 Train Loss: 0.0219 Train Accuracy: 65.8182\n",
      "Epoch no.1 Validation Loss: 0.0202 Validation Accuracy: 82.6087\n",
      "==================================================\n",
      "Epoch no.2 Train Loss: 0.0196 Train Accuracy: 79.4545\n",
      "Epoch no.2 Validation Loss: 0.0178 Validation Accuracy: 84.2391\n",
      "==================================================\n",
      "Epoch no.3 Train Loss: 0.0171 Train Accuracy: 84.9091\n",
      "Epoch no.3 Validation Loss: 0.0155 Validation Accuracy: 84.7826\n",
      "==================================================\n",
      "Epoch no.4 Train Loss: 0.0148 Train Accuracy: 86.0\n",
      "Epoch no.4 Validation Loss: 0.0134 Validation Accuracy: 85.3261\n",
      "==================================================\n",
      "Epoch no.5 Train Loss: 0.013 Train Accuracy: 86.7273\n",
      "Epoch no.5 Validation Loss: 0.012 Validation Accuracy: 85.3261\n",
      "==================================================\n",
      "Epoch no.6 Train Loss: 0.0117 Train Accuracy: 87.2727\n",
      "Epoch no.6 Validation Loss: 0.0113 Validation Accuracy: 84.2391\n",
      "==================================================\n",
      "Epoch no.7 Train Loss: 0.0117 Train Accuracy: 87.8182\n",
      "Epoch no.7 Validation Loss: 0.0113 Validation Accuracy: 84.7826\n",
      "==================================================\n",
      "Epoch no.8 Train Loss: 0.0106 Train Accuracy: 87.8182\n",
      "Epoch no.8 Validation Loss: 0.0112 Validation Accuracy: 84.2391\n",
      "==================================================\n",
      "Epoch no.9 Train Loss: 0.0102 Train Accuracy: 87.8182\n",
      "Epoch no.9 Validation Loss: 0.011 Validation Accuracy: 84.2391\n",
      "==================================================\n",
      "Epoch no.10 Train Loss: 0.0105 Train Accuracy: 88.1818\n",
      "Epoch no.10 Validation Loss: 0.0109 Validation Accuracy: 84.2391\n",
      "==================================================\n"
     ]
    }
   ],
   "source": [
    "epochs=10\n",
    "for epoch in range(epochs):\n",
    "    total_acc_train = 0\n",
    "    total_loss_train = 0\n",
    "    total_acc_validation = 0\n",
    "    total_loss_validation = 0\n",
    "\n",
    "    for data in train_dataloader:\n",
    "        inputs, labels = data\n",
    "\n",
    "        prediction = model(inputs).squeeze(1)\n",
    "\n",
    "        batch_loss = criterion(prediction,labels)\n",
    "\n",
    "        total_loss_train += batch_loss.item()\n",
    "\n",
    "        acc = (prediction.round() == labels).sum().item()\n",
    "        total_acc_train += acc\n",
    "\n",
    "        \n",
    "        batch_loss.backward()\n",
    "        optimazer.step()\n",
    "        optimazer.zero_grad()\n",
    "\n",
    "    with torch.no_grad():\n",
    "        for validation in val_dataloader:\n",
    "            inputs  ,labels=validation\n",
    "\n",
    "            prediction=model(inputs).squeeze(1)\n",
    "            batch_loss = criterion(prediction,labels)\n",
    "            total_loss_validation += batch_loss.item()\n",
    "\n",
    "            acc = (prediction.round()==labels).sum().item()\n",
    "\n",
    "            total_acc_validation += acc\n",
    "    \n",
    "    total_loss_train_plot.append(round(total_loss_train/train_dataset.__len__(),4))\n",
    "    total_loss_validation_plot.append(round(total_loss_validation/val_dataset.__len__(),4))\n",
    "\n",
    "    total_acc_train_plot.append(round(total_acc_train/train_dataset.__len__()*100,4))\n",
    "    total_acc_validation_plot.append(round(total_acc_validation/val_dataset.__len__()*100,4))\n",
    "\n",
    "    print(f'Epoch no.{epoch+1} Train Loss: {total_loss_train_plot[epoch]} Train Accuracy: {total_acc_train_plot[epoch]}')\n",
    "    print(f'Epoch no.{epoch+1} Validation Loss: {total_loss_validation_plot[epoch]} Validation Accuracy: {total_acc_validation_plot[epoch]}')\n",
    "    print('='*50)"
   ]
  },
  {
   "cell_type": "code",
   "execution_count": 398,
   "id": "4f2e7f10",
   "metadata": {},
   "outputs": [
    {
     "name": "stdout",
     "output_type": "stream",
     "text": [
      "Accuracy for TestSet:85.8696\n"
     ]
    }
   ],
   "source": [
    "model.eval()\n",
    "with torch.no_grad():\n",
    "    total_loss_test =0\n",
    "    total_acc_test = 0\n",
    "    for data in test_dataloader:\n",
    "        inputs,labels = data\n",
    "\n",
    "        prediction = model(inputs).squeeze(1)\n",
    "\n",
    "        batch_loss_test = criterion(prediction,labels).item()\n",
    "        total_loss_test +=batch_loss_test\n",
    "        \n",
    "        acc = (prediction.round() == labels).sum().item()\n",
    "\n",
    "        total_acc_test+= acc\n",
    "\n",
    "    print(f'Accuracy for TestSet:{round(total_acc_test/test_dataset.__len__()*100,4)}')\n"
   ]
  },
  {
   "cell_type": "code",
   "execution_count": 399,
   "id": "4b29c407",
   "metadata": {},
   "outputs": [
    {
     "data": {
      "text/plain": [
       "<matplotlib.legend.Legend at 0x1ea34456e90>"
      ]
     },
     "execution_count": 399,
     "metadata": {},
     "output_type": "execute_result"
    },
    {
     "data": {
      "image/png": "[encoded data removed]",
      "text/plain": [
       "<Figure size 1500x500 with 2 Axes>"
      ]
     },
     "metadata": {},
     "output_type": "display_data"
    }
   ],
   "source": [
    "fig,axs=  plt.subplots(nrows=1,ncols=2,figsize=(15,5))\n",
    "axs[0].plot(total_loss_train_plot,label = 'Training Loss')\n",
    "axs[0].plot(total_loss_validation_plot,label='Validation Loss')\n",
    "axs[0].set_title('Training Loss vs Validations Loss')\n",
    "axs[0].set_xlabel('Epoch')\n",
    "axs[0].set_ylabel('Loss')\n",
    "axs[0].legend()\n",
    "\n",
    "axs[1].plot(total_acc_train_plot,label = 'Training Acc')\n",
    "axs[1].plot(total_acc_validation_plot,label='Validation Acc')\n",
    "axs[1].set_title('Training Acc vs Validations Acc')\n",
    "axs[1].set_xlabel('Epoch')\n",
    "axs[1].set_ylabel('Acc')\n",
    "axs[1].legend()"
   ]
  }
 ],
 "metadata": {
  "kernelspec": {
   "display_name": "Python 3",
   "language": "python",
   "name": "python3"
  },
  "language_info": {
   "codemirror_mode": {
    "name": "ipython",
    "version": 3
   },
   "file_extension": ".py",
   "mimetype": "text/x-python",
   "name": "python",
   "nbconvert_exporter": "python",
   "pygments_lexer": "ipython3",
   "version": "3.13.7"
  }
 },
 "nbformat": 4,
 "nbformat_minor": 5
}
