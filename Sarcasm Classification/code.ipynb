{
 "cells": [
  {
   "cell_type": "code",
   "execution_count": 2,
   "id": "f353ab0e",
   "metadata": {},
   "outputs": [
    {
     "name": "stderr",
     "output_type": "stream",
     "text": [
      "c:\\Users\\danie\\OneDrive\\Desktop\\Data_science\\.venv\\lib\\site-packages\\tqdm\\auto.py:21: TqdmWarning: IProgress not found. Please update jupyter and ipywidgets. See https://ipywidgets.readthedocs.io/en/stable/user_install.html\n",
      "  from .autonotebook import tqdm as notebook_tqdm\n"
     ]
    }
   ],
   "source": [
    "import torch\n",
    "import torch.nn as nn\n",
    "from torch.optim import Adam\n",
    "from transformers import AutoTokenizer,AutoModel\n",
    "from torch.utils.data import DataLoader,Dataset\n",
    "from sklearn.model_selection import train_test_split\n",
    "from sklearn.metrics import accuracy_score\n",
    "import matplotlib.pyplot as plt\n",
    "import pandas as pd\n",
    "import numpy as np\n"
   ]
  },
  {
   "cell_type": "code",
   "execution_count": 3,
   "id": "4431562b",
   "metadata": {},
   "outputs": [
    {
     "data": {
      "text/plain": [
       "'cuda'"
      ]
     },
     "execution_count": 3,
     "metadata": {},
     "output_type": "execute_result"
    }
   ],
   "source": [
    "device = 'cuda' if torch.cuda.is_available() else 'cpu'\n",
    "device"
   ]
  },
  {
   "cell_type": "code",
   "execution_count": 4,
   "id": "a4e37201",
   "metadata": {},
   "outputs": [],
   "source": [
    "data_df = pd.read_json('Sarcasm_Headlines_Dataset.json',lines=True)"
   ]
  },
  {
   "cell_type": "code",
   "execution_count": 5,
   "id": "774b331d",
   "metadata": {},
   "outputs": [
    {
     "data": {
      "text/html": [
       "<div>\n",
       "<style scoped>\n",
       "    .dataframe tbody tr th:only-of-type {\n",
       "        vertical-align: middle;\n",
       "    }\n",
       "\n",
       "    .dataframe tbody tr th {\n",
       "        vertical-align: top;\n",
       "    }\n",
       "\n",
       "    .dataframe thead th {\n",
       "        text-align: right;\n",
       "    }\n",
       "</style>\n",
       "<table border=\"1\" class=\"dataframe\">\n",
       "  <thead>\n",
       "    <tr style=\"text-align: right;\">\n",
       "      <th></th>\n",
       "      <th>headline</th>\n",
       "      <th>is_sarcastic</th>\n",
       "    </tr>\n",
       "  </thead>\n",
       "  <tbody>\n",
       "    <tr>\n",
       "      <th>0</th>\n",
       "      <td>former versace store clerk sues over secret 'b...</td>\n",
       "      <td>0</td>\n",
       "    </tr>\n",
       "    <tr>\n",
       "      <th>1</th>\n",
       "      <td>the 'roseanne' revival catches up to our thorn...</td>\n",
       "      <td>0</td>\n",
       "    </tr>\n",
       "  </tbody>\n",
       "</table>\n",
       "</div>"
      ],
      "text/plain": [
       "                                            headline  is_sarcastic\n",
       "0  former versace store clerk sues over secret 'b...             0\n",
       "1  the 'roseanne' revival catches up to our thorn...             0"
      ]
     },
     "execution_count": 5,
     "metadata": {},
     "output_type": "execute_result"
    }
   ],
   "source": [
    "data_df.drop_duplicates(inplace=True)\n",
    "data_df.dropna(inplace=True)\n",
    "data_df.shape\n",
    "data_df.drop('article_link',axis=1,inplace=True)\n",
    "data_df.head(2)\n"
   ]
  },
  {
   "cell_type": "code",
   "execution_count": 6,
   "id": "9fd56bc9",
   "metadata": {},
   "outputs": [],
   "source": [
    "X_train,X_test,Y_train,Y_test = train_test_split(data_df['headline'],data_df['is_sarcastic'],test_size=.7)\n",
    "X_val,X_test,Y_Val,Y_test = train_test_split(X_test,Y_test,test_size=.5)"
   ]
  },
  {
   "cell_type": "code",
   "execution_count": 9,
   "id": "704623fc",
   "metadata": {},
   "outputs": [],
   "source": [
    "tokenizer = AutoTokenizer.from_pretrained(\"google-bert/bert-base-uncased\")\n",
    "bert_model = AutoModel.from_pretrained(\"google-bert/bert-base-uncased\")"
   ]
  },
  {
   "cell_type": "code",
   "execution_count": 10,
   "id": "a9400f40",
   "metadata": {},
   "outputs": [],
   "source": [
    "class dataset(Dataset): \n",
    "    \n",
    "    def __init__(self,X,Y):\n",
    "        self.X =[tokenizer(x,max_length=100,truncation=True,padding='max_length',return_tensors='pt').to(device) for x in X]\n",
    "        self.Y = torch.tensor(Y,dtype=torch.float32).to(device)\n",
    "        \n",
    "    def __len__(self):\n",
    "        return len(self.X)\n",
    "    \n",
    "    def __getitem__(self, index):\n",
    "        return self.X[index] , self.Y[index]\n",
    "    \n",
    "    "
   ]
  },
  {
   "cell_type": "code",
   "execution_count": 11,
   "id": "60a1ea37",
   "metadata": {},
   "outputs": [],
   "source": [
    "train_dataset = dataset(X_train,Y_train.values)\n",
    "val_dataset = dataset(X_val,Y_Val.values)\n",
    "test_dataset = dataset(X_test,Y_test.values)"
   ]
  },
  {
   "cell_type": "code",
   "execution_count": 12,
   "id": "bb01e55c",
   "metadata": {},
   "outputs": [],
   "source": [
    "BATCH_SIZE =32\n",
    "LR = 1e-4\n",
    "EPOCHS = 10"
   ]
  },
  {
   "cell_type": "code",
   "execution_count": 13,
   "id": "c44cb644",
   "metadata": {},
   "outputs": [],
   "source": [
    "train_dataloader = DataLoader(train_dataset,batch_size=BATCH_SIZE,shuffle=True)\n",
    "val_dataloader = DataLoader(val_dataset,batch_size=BATCH_SIZE,shuffle=True)\n",
    "test_dataloader = DataLoader(test_dataset,batch_size=BATCH_SIZE,shuffle=True)"
   ]
  },
  {
   "cell_type": "code",
   "execution_count": 14,
   "id": "8ed3eb23",
   "metadata": {},
   "outputs": [],
   "source": [
    "class MyModel(nn.Module):\n",
    "    def __init__(self,bert):\n",
    "        super().__init__()\n",
    "        self.bert = bert\n",
    "        self.dropout = nn.Dropout(.25)\n",
    "        self.linear1= nn.Linear(768,384)\n",
    "        self.linear2 = nn.Linear(384,1)\n",
    "        self.sigmoid = nn.Sigmoid()\n",
    "        \n",
    "    def forward(self,input_ids,attention_mask):\n",
    "        pooled_output = self.bert(input_ids,attention_mask,return_dict = False)[0][:,0]\n",
    "        output = self.linear1(pooled_output)\n",
    "        output=self.dropout(output)\n",
    "        output = self.linear2(output)\n",
    "        output = self.sigmoid(output)\n",
    "        return output\n",
    "        \n",
    "        "
   ]
  },
  {
   "cell_type": "code",
   "execution_count": 15,
   "id": "9854efbd",
   "metadata": {},
   "outputs": [],
   "source": [
    "for param in bert_model.parameters():\n",
    "    param.requires_grad =False\n",
    "mymodel = MyModel(bert_model).to(device)"
   ]
  },
  {
   "cell_type": "code",
   "execution_count": 16,
   "id": "bb11a145",
   "metadata": {},
   "outputs": [],
   "source": [
    "criterion=  nn.BCELoss()\n",
    "optimizer = Adam(mymodel.parameters(),lr=LR)\n"
   ]
  },
  {
   "cell_type": "code",
   "execution_count": 17,
   "id": "6ee255cc",
   "metadata": {},
   "outputs": [
    {
     "name": "stdout",
     "output_type": "stream",
     "text": [
      "Epoch:1 Train Loss: 0.5298 Train Acc: 75.1997%\n",
      "Epoch:1 Val Loss: 0.4465 Val Acc: 79.6213%\n",
      "Epoch:2 Train Loss: 0.4424 Train Acc: 80.9661%\n",
      "Epoch:2 Val Loss: 0.4046 Val Acc: 82.0496%\n",
      "Epoch:3 Train Loss: 0.4156 Train Acc: 81.7649%\n",
      "Epoch:3 Val Loss: 0.406 Val Acc: 81.5255%\n",
      "Epoch:4 Train Loss: 0.405 Train Acc: 82.4014%\n",
      "Epoch:4 Val Loss: 0.3713 Val Acc: 84.2747%\n",
      "Epoch:5 Train Loss: 0.3957 Train Acc: 83.0005%\n",
      "Epoch:5 Val Loss: 0.3655 Val Acc: 83.911%\n",
      "Epoch:6 Train Loss: 0.3904 Train Acc: 83.0255%\n",
      "Epoch:6 Val Loss: 0.3579 Val Acc: 84.7026%\n",
      "Epoch:7 Train Loss: 0.3883 Train Acc: 83.0629%\n",
      "Epoch:7 Val Loss: 0.3564 Val Acc: 84.8631%\n",
      "Epoch:8 Train Loss: 0.3791 Train Acc: 83.9491%\n",
      "Epoch:8 Val Loss: 0.3587 Val Acc: 84.157%\n",
      "Epoch:9 Train Loss: 0.373 Train Acc: 83.9366%\n",
      "Epoch:9 Val Loss: 0.3486 Val Acc: 85.0021%\n",
      "Epoch:10 Train Loss: 0.3788 Train Acc: 83.7743%\n",
      "Epoch:10 Val Loss: 0.352 Val Acc: 84.9914%\n"
     ]
    }
   ],
   "source": [
    "total_loss_train_plot = []\n",
    "total_loss_val_plot = []\n",
    "total_acc_train_plot = []\n",
    "total_acc_val_plot = []\n",
    "\n",
    "for epoch in range(EPOCHS):\n",
    "    total_loss_train = 0\n",
    "    total_loss_val=0\n",
    "    total_acc_train = 0\n",
    "    total_acc_val = 0\n",
    "    \n",
    "    for inputs,labels in train_dataloader:\n",
    "        inputs.to(device)\n",
    "        labels.to(device)\n",
    "        \n",
    "        mymodel.train()\n",
    "        pred = mymodel(inputs['input_ids'].squeeze(1),inputs['attention_mask'].squeeze(1)).squeeze(1)\n",
    "        batch_loss = criterion(pred,labels)\n",
    "        total_loss_train+=batch_loss.item()\n",
    "        \n",
    "        acc=(pred.round()==labels).sum().item()\n",
    "        \n",
    "        total_acc_train +=acc\n",
    "        batch_loss.backward()\n",
    "        optimizer.step()\n",
    "        optimizer.zero_grad()\n",
    "        \n",
    "    with torch.no_grad():\n",
    "        mymodel.eval()\n",
    "        for inputs,labels in val_dataloader:\n",
    "            inputs.to(device)\n",
    "            labels.to(device)\n",
    "            pred = mymodel(inputs['input_ids'].squeeze(1),inputs['attention_mask'].squeeze(1)).squeeze(1)\n",
    "            batch_loss = criterion(pred,labels)\n",
    "            total_loss_val += batch_loss.item()\n",
    "            acc = (pred.round()==labels).sum().item()\n",
    "            \n",
    "            total_acc_val += acc\n",
    "            \n",
    "    total_loss_train_plot.append(round(total_loss_train/len(train_dataloader),4))\n",
    "    total_loss_val_plot.append(round(total_loss_val/len(val_dataloader),4))\n",
    "    total_acc_train_plot.append(round(total_acc_train/len(train_dataset)*100,4))\n",
    "    total_acc_val_plot.append(round(total_acc_val/len(val_dataset)*100,4))\n",
    "    \n",
    "    print(f'Epoch:{epoch+1} Train Loss: {total_loss_train_plot[epoch]} Train Acc: {total_acc_train_plot[epoch]}%')\n",
    "    print(f'Epoch:{epoch+1} Val Loss: {total_loss_val_plot[epoch]} Val Acc: {total_acc_val_plot[epoch]}%')\n",
    "    \n",
    "        "
   ]
  },
  {
   "cell_type": "code",
   "execution_count": 47,
   "id": "57d19fd4",
   "metadata": {},
   "outputs": [
    {
     "name": "stdout",
     "output_type": "stream",
     "text": [
      "Total acc for test set: 85.0128%\n"
     ]
    }
   ],
   "source": [
    "with torch.no_grad():\n",
    "    mymodel.eval()\n",
    "    total_loss_test = 0 \n",
    "    total_acc_test = 0\n",
    "    for inputs ,label in test_dataloader:\n",
    "        inputs.to(device)\n",
    "        label.to(device)\n",
    "        prediction = mymodel(inputs['input_ids'].squeeze(1),inputs['attention_mask'].squeeze(1)).squeeze(1)\n",
    "        batch_loss =criterion(prediction,label)\n",
    "        total_loss_test +=batch_loss.item()\n",
    "        acc = (prediction.round()==label).sum().item()\n",
    "        \n",
    "        total_acc_test +=acc\n",
    "    print(f'Total acc for test set: {round(total_acc_test/len(test_dataset)*100,4)}%')\n",
    "        "
   ]
  },
  {
   "cell_type": "code",
   "execution_count": null,
   "id": "f94a69ea",
   "metadata": {},
   "outputs": [],
   "source": []
  },
  {
   "cell_type": "code",
   "execution_count": null,
   "id": "379686d8",
   "metadata": {},
   "outputs": [],
   "source": []
  },
  {
   "cell_type": "code",
   "execution_count": null,
   "id": "edda0dd1",
   "metadata": {},
   "outputs": [],
   "source": []
  },
  {
   "cell_type": "code",
   "execution_count": null,
   "id": "29d4513b",
   "metadata": {},
   "outputs": [],
   "source": []
  },
  {
   "cell_type": "code",
   "execution_count": null,
   "id": "edba2ecf",
   "metadata": {},
   "outputs": [],
   "source": []
  },
  {
   "cell_type": "code",
   "execution_count": null,
   "metadata": {},
   "outputs": [],
   "source": []
  },
  {
   "cell_type": "code",
   "execution_count": null,
   "id": "5e821b03",
   "metadata": {},
   "outputs": [],
   "source": []
  },
  {
   "cell_type": "code",
   "execution_count": null,
   "id": "f4cd6560",
   "metadata": {},
   "outputs": [],
   "source": []
  },
  {
   "cell_type": "code",
   "execution_count": null,
   "id": "2aa58140",
   "metadata": {},
   "outputs": [],
   "source": []
  },
  {
   "cell_type": "code",
   "execution_count": null,
   "id": "86d99b2c",
   "metadata": {},
   "outputs": [],
   "source": []
  },
  {
   "cell_type": "code",
   "execution_count": null,
   "id": "bc3cc1a2",
   "metadata": {},
   "outputs": [],
   "source": []
  }
 ],
 "metadata": {
  "kernelspec": {
   "display_name": ".venv",
   "language": "python",
   "name": "python3"
  },
  "language_info": {
   "codemirror_mode": {
    "name": "ipython",
    "version": 3
   },
   "file_extension": ".py",
   "mimetype": "text/x-python",
   "name": "python",
   "nbconvert_exporter": "python",
   "pygments_lexer": "ipython3",
   "version": "3.10.0"
  }
 },
 "nbformat": 4,
 "nbformat_minor": 5
}
