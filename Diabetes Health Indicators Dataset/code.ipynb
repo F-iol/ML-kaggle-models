{
 "cells": [
  {
   "cell_type": "code",
   "execution_count": 170,
   "id": "439fcb2e",
   "metadata": {},
   "outputs": [],
   "source": [
    "import pandas as pd\n",
    "import torch\n",
    "import torch.nn as nn\n",
    "from torch.optim import Adam\n",
    "from torch.utils.data import Dataset,DataLoader\n",
    "from torchsummary import summary\n",
    "from sklearn.model_selection import train_test_split\n",
    "from sklearn.metrics import accuracy_score\n",
    "import matplotlib.pyplot as plt\n",
    "import seaborn as sns\n",
    "import numpy as np"
   ]
  },
  {
   "cell_type": "code",
   "execution_count": 171,
   "id": "7a04faa4",
   "metadata": {},
   "outputs": [
    {
     "data": {
      "text/plain": [
       "'cuda'"
      ]
     },
     "execution_count": 171,
     "metadata": {},
     "output_type": "execute_result"
    }
   ],
   "source": [
    "device=  'cuda' if torch.cuda.is_available() else 'cpu'\n",
    "device"
   ]
  },
  {
   "cell_type": "code",
   "execution_count": 172,
   "id": "97f2c717",
   "metadata": {},
   "outputs": [
    {
     "data": {
      "text/html": [
       "<div>\n",
       "<style scoped>\n",
       "    .dataframe tbody tr th:only-of-type {\n",
       "        vertical-align: middle;\n",
       "    }\n",
       "\n",
       "    .dataframe tbody tr th {\n",
       "        vertical-align: top;\n",
       "    }\n",
       "\n",
       "    .dataframe thead th {\n",
       "        text-align: right;\n",
       "    }\n",
       "</style>\n",
       "<table border=\"1\" class=\"dataframe\">\n",
       "  <thead>\n",
       "    <tr style=\"text-align: right;\">\n",
       "      <th></th>\n",
       "      <th>Diabetes_binary</th>\n",
       "      <th>HighBP</th>\n",
       "      <th>HighChol</th>\n",
       "      <th>CholCheck</th>\n",
       "      <th>BMI</th>\n",
       "      <th>Smoker</th>\n",
       "      <th>Stroke</th>\n",
       "      <th>HeartDiseaseorAttack</th>\n",
       "      <th>PhysActivity</th>\n",
       "      <th>Fruits</th>\n",
       "      <th>...</th>\n",
       "      <th>AnyHealthcare</th>\n",
       "      <th>NoDocbcCost</th>\n",
       "      <th>GenHlth</th>\n",
       "      <th>MentHlth</th>\n",
       "      <th>PhysHlth</th>\n",
       "      <th>DiffWalk</th>\n",
       "      <th>Sex</th>\n",
       "      <th>Age</th>\n",
       "      <th>Education</th>\n",
       "      <th>Income</th>\n",
       "    </tr>\n",
       "  </thead>\n",
       "  <tbody>\n",
       "    <tr>\n",
       "      <th>0</th>\n",
       "      <td>0.0</td>\n",
       "      <td>1.0</td>\n",
       "      <td>1.0</td>\n",
       "      <td>1.0</td>\n",
       "      <td>40.0</td>\n",
       "      <td>1.0</td>\n",
       "      <td>0.0</td>\n",
       "      <td>0.0</td>\n",
       "      <td>0.0</td>\n",
       "      <td>0.0</td>\n",
       "      <td>...</td>\n",
       "      <td>1.0</td>\n",
       "      <td>0.0</td>\n",
       "      <td>5.0</td>\n",
       "      <td>18.0</td>\n",
       "      <td>15.0</td>\n",
       "      <td>1.0</td>\n",
       "      <td>0.0</td>\n",
       "      <td>9.0</td>\n",
       "      <td>4.0</td>\n",
       "      <td>3.0</td>\n",
       "    </tr>\n",
       "    <tr>\n",
       "      <th>1</th>\n",
       "      <td>0.0</td>\n",
       "      <td>0.0</td>\n",
       "      <td>0.0</td>\n",
       "      <td>0.0</td>\n",
       "      <td>25.0</td>\n",
       "      <td>1.0</td>\n",
       "      <td>0.0</td>\n",
       "      <td>0.0</td>\n",
       "      <td>1.0</td>\n",
       "      <td>0.0</td>\n",
       "      <td>...</td>\n",
       "      <td>0.0</td>\n",
       "      <td>1.0</td>\n",
       "      <td>3.0</td>\n",
       "      <td>0.0</td>\n",
       "      <td>0.0</td>\n",
       "      <td>0.0</td>\n",
       "      <td>0.0</td>\n",
       "      <td>7.0</td>\n",
       "      <td>6.0</td>\n",
       "      <td>1.0</td>\n",
       "    </tr>\n",
       "  </tbody>\n",
       "</table>\n",
       "<p>2 rows × 22 columns</p>\n",
       "</div>"
      ],
      "text/plain": [
       "   Diabetes_binary  HighBP  HighChol  CholCheck   BMI  Smoker  Stroke  \\\n",
       "0              0.0     1.0       1.0        1.0  40.0     1.0     0.0   \n",
       "1              0.0     0.0       0.0        0.0  25.0     1.0     0.0   \n",
       "\n",
       "   HeartDiseaseorAttack  PhysActivity  Fruits  ...  AnyHealthcare  \\\n",
       "0                   0.0           0.0     0.0  ...            1.0   \n",
       "1                   0.0           1.0     0.0  ...            0.0   \n",
       "\n",
       "   NoDocbcCost  GenHlth  MentHlth  PhysHlth  DiffWalk  Sex  Age  Education  \\\n",
       "0          0.0      5.0      18.0      15.0       1.0  0.0  9.0        4.0   \n",
       "1          1.0      3.0       0.0       0.0       0.0  0.0  7.0        6.0   \n",
       "\n",
       "   Income  \n",
       "0     3.0  \n",
       "1     1.0  \n",
       "\n",
       "[2 rows x 22 columns]"
      ]
     },
     "execution_count": 172,
     "metadata": {},
     "output_type": "execute_result"
    }
   ],
   "source": [
    "data_df = pd.read_csv('diabetes_binary_health_indicators_BRFSS2015.csv')\n",
    "data_df.head(2)"
   ]
  },
  {
   "cell_type": "code",
   "execution_count": 173,
   "id": "f92c5b24",
   "metadata": {},
   "outputs": [
    {
     "name": "stdout",
     "output_type": "stream",
     "text": [
      "Index(['Diabetes_binary', 'HighBP', 'HighChol', 'CholCheck', 'BMI', 'Smoker',\n",
      "       'Stroke', 'HeartDiseaseorAttack', 'PhysActivity', 'Fruits', 'Veggies',\n",
      "       'HvyAlcoholConsump', 'AnyHealthcare', 'NoDocbcCost', 'GenHlth',\n",
      "       'MentHlth', 'PhysHlth', 'DiffWalk', 'Sex', 'Age', 'Education',\n",
      "       'Income'],\n",
      "      dtype='object')\n",
      "Diabetes_binary         0\n",
      "HighBP                  0\n",
      "HighChol                0\n",
      "CholCheck               0\n",
      "BMI                     0\n",
      "Smoker                  0\n",
      "Stroke                  0\n",
      "HeartDiseaseorAttack    0\n",
      "PhysActivity            0\n",
      "Fruits                  0\n",
      "Veggies                 0\n",
      "HvyAlcoholConsump       0\n",
      "AnyHealthcare           0\n",
      "NoDocbcCost             0\n",
      "GenHlth                 0\n",
      "MentHlth                0\n",
      "PhysHlth                0\n",
      "DiffWalk                0\n",
      "Sex                     0\n",
      "Age                     0\n",
      "Education               0\n",
      "Income                  0\n",
      "dtype: int64\n"
     ]
    },
    {
     "data": {
      "text/plain": [
       "(253680, 22)"
      ]
     },
     "execution_count": 173,
     "metadata": {},
     "output_type": "execute_result"
    }
   ],
   "source": [
    "print(data_df.columns)\n",
    "print(data_df.isnull().sum())\n",
    "data_df.dropna(inplace=True)\n",
    "data_df.shape"
   ]
  },
  {
   "cell_type": "code",
   "execution_count": 174,
   "id": "79e20e39",
   "metadata": {},
   "outputs": [],
   "source": [
    "X_train,X_temp , Y_train,Y_temp = train_test_split(data_df.drop('Diabetes_binary',axis=1),data_df.Diabetes_binary,test_size=.3,random_state=69,stratify=data_df.Diabetes_binary)\n",
    "X_val,X_test,Y_val,Y_test = train_test_split(X_temp,Y_temp,test_size=.5,random_state=69,stratify=Y_temp)"
   ]
  },
  {
   "cell_type": "code",
   "execution_count": 175,
   "id": "51849e5c",
   "metadata": {},
   "outputs": [
    {
     "name": "stdout",
     "output_type": "stream",
     "text": [
      "(177576, 21) (38052, 21) (38052, 21)\n"
     ]
    }
   ],
   "source": [
    "print(X_train.shape,X_val.shape,X_test.shape)"
   ]
  },
  {
   "cell_type": "code",
   "execution_count": 176,
   "id": "b0e296fd",
   "metadata": {},
   "outputs": [],
   "source": [
    "from sklearn.preprocessing import MinMaxScaler\n",
    "scaler= MinMaxScaler()"
   ]
  },
  {
   "cell_type": "code",
   "execution_count": 177,
   "id": "0f07e40f",
   "metadata": {},
   "outputs": [],
   "source": [
    "X_train_scaled = scaler.fit_transform(X_train)\n",
    "X_val_scaled = scaler.transform(X_val)\n",
    "X_test_scaled = scaler.transform(X_test)"
   ]
  },
  {
   "cell_type": "code",
   "execution_count": 178,
   "id": "0d269a28",
   "metadata": {},
   "outputs": [],
   "source": [
    "class dataset(Dataset):\n",
    "    def __init__(self,x,y):\n",
    "        self.x = torch.tensor(x,dtype=torch.float32).to(device)\n",
    "        self.y = torch.tensor(y,dtype=torch.float32).to(device)\n",
    "        \n",
    "    def __len__(self):\n",
    "        return len(self.x)\n",
    "    \n",
    "    def __getitem__(self,index):\n",
    "        return self.x[index] , self.y[index]\n",
    "    "
   ]
  },
  {
   "cell_type": "code",
   "execution_count": 179,
   "id": "c0cf5dbe",
   "metadata": {},
   "outputs": [],
   "source": [
    "y_train_long = torch.tensor(Y_train.values).to(torch.long)\n",
    "class_count =torch.bincount(y_train_long)\n",
    "class_weight = 1./class_count.float()\n",
    "sample_weights=class_weight[y_train_long]\n"
   ]
  },
  {
   "cell_type": "code",
   "execution_count": 180,
   "id": "2da40bd4",
   "metadata": {},
   "outputs": [],
   "source": [
    "from torch.utils.data import WeightedRandomSampler\n",
    "\n",
    "sampler = WeightedRandomSampler(\n",
    "    weights=sample_weights,\n",
    "    num_samples=len(sample_weights),\n",
    "    replacement=True\n",
    ")"
   ]
  },
  {
   "cell_type": "code",
   "execution_count": 181,
   "id": "c95f68ef",
   "metadata": {},
   "outputs": [],
   "source": [
    "train_dataset = dataset(X_train_scaled,Y_train.values)\n",
    "validation_dataset = dataset(X_val_scaled,Y_val.values)\n",
    "test_dataset = dataset(X_test_scaled,Y_test.values)"
   ]
  },
  {
   "cell_type": "code",
   "execution_count": null,
   "id": "270b1f31",
   "metadata": {},
   "outputs": [],
   "source": [
    "train_dataloader = DataLoader(train_dataset,batch_size=32,sampler=sampler)\n",
    "val_dataloader = DataLoader(validation_dataset,batch_size=32,shuffle=False)\n",
    "test_dataloader = DataLoader(test_dataset,batch_size=32,shuffle=False)"
   ]
  },
  {
   "cell_type": "code",
   "execution_count": 205,
   "id": "bf19b514",
   "metadata": {},
   "outputs": [],
   "source": [
    "class MyModel(nn.Module):\n",
    "    def __init__(self):\n",
    "        super().__init__()\n",
    "        self.input_layer = nn.Linear(data_df.drop(\"Diabetes_binary\",axis=1).shape[1],32)\n",
    "        self.linear = nn.Linear(32,8)\n",
    "        self.bn1 = nn.BatchNorm1d(32)\n",
    "        self.output =nn.Linear(8,1)\n",
    "        self.bn2 = nn.BatchNorm1d(8)\n",
    "        self.bn3 = nn.BatchNorm1d(64)\n",
    "        self.bn4=nn.BatchNorm1d(32)\n",
    "        #self.linear2 = nn.Linear(64,32)\n",
    "        self.linear1 = nn.Linear(128,64)\n",
    "        self.relu=nn.LeakyReLU(0.1)\n",
    "        self.dropout=nn.Dropout(.1)\n",
    "        self.sigmoid = nn.Sigmoid()\n",
    "        \n",
    "    def forward(self,x):\n",
    "        x = self.relu(self.bn1(self.input_layer(x)))\n",
    "        #x=self.dropout(x)\n",
    "        x=self.relu(self.bn2(self.linear(x)))\n",
    "        #x=self.dropout(x)\n",
    "        #x=self.relu(self.bn3(self.linear1(x)))\n",
    "        #x=self.dropout(x)\n",
    "        #x=self.relu(self.bn4(self.linear2(x)))\n",
    "        x=self.output(x)\n",
    "        \n",
    "        return x\n"
   ]
  },
  {
   "cell_type": "code",
   "execution_count": 206,
   "id": "fe8a8cec",
   "metadata": {},
   "outputs": [],
   "source": [
    "model = MyModel().to(device)"
   ]
  },
  {
   "cell_type": "code",
   "execution_count": 207,
   "id": "0408847b",
   "metadata": {},
   "outputs": [
    {
     "name": "stdout",
     "output_type": "stream",
     "text": [
      "----------------------------------------------------------------\n",
      "        Layer (type)               Output Shape         Param #\n",
      "================================================================\n",
      "            Linear-1                   [-1, 32]             704\n",
      "       BatchNorm1d-2                   [-1, 32]              64\n",
      "         LeakyReLU-3                   [-1, 32]               0\n",
      "            Linear-4                    [-1, 8]             264\n",
      "       BatchNorm1d-5                    [-1, 8]              16\n",
      "         LeakyReLU-6                    [-1, 8]               0\n",
      "            Linear-7                    [-1, 1]               9\n",
      "================================================================\n",
      "Total params: 1,057\n",
      "Trainable params: 1,057\n",
      "Non-trainable params: 0\n",
      "----------------------------------------------------------------\n",
      "Input size (MB): 0.00\n",
      "Forward/backward pass size (MB): 0.00\n",
      "Params size (MB): 0.00\n",
      "Estimated Total Size (MB): 0.01\n",
      "----------------------------------------------------------------\n"
     ]
    }
   ],
   "source": [
    "summary(model,(data_df.drop('Diabetes_binary',axis=1).shape[1],))"
   ]
  },
  {
   "cell_type": "code",
   "execution_count": 208,
   "id": "07b8e1be",
   "metadata": {},
   "outputs": [
    {
     "data": {
      "text/plain": [
       "Diabetes_binary\n",
       "0.0    218334\n",
       "1.0     35346\n",
       "Name: count, dtype: int64"
      ]
     },
     "execution_count": 208,
     "metadata": {},
     "output_type": "execute_result"
    }
   ],
   "source": [
    "data_df.Diabetes_binary.value_counts()"
   ]
  },
  {
   "cell_type": "code",
   "execution_count": 209,
   "id": "df94c957",
   "metadata": {},
   "outputs": [],
   "source": [
    "labels = data_df.Diabetes_binary\n",
    "n_pos= (labels == 1).sum()\n",
    "n_neg = (labels ==0).sum()\n",
    "pos_weight = n_neg/n_pos"
   ]
  },
  {
   "cell_type": "code",
   "execution_count": 210,
   "id": "f7e26f83",
   "metadata": {},
   "outputs": [],
   "source": [
    "#criterion = nn.BCEWithLogitsLoss(pos_weight=torch.tensor([pos_weight],device=device))\n",
    "criterion = nn.BCEWithLogitsLoss()\n",
    "optimazer =Adam(model.parameters(),lr=1e-3,weight_decay = 1e-4)\n",
    "scheduler = torch.optim.lr_scheduler.ReduceLROnPlateau(optimazer,factor=.5,patience=2)"
   ]
  },
  {
   "cell_type": "code",
   "execution_count": 211,
   "id": "a08ad349",
   "metadata": {},
   "outputs": [
    {
     "name": "stdout",
     "output_type": "stream",
     "text": [
      "Epoch:1 Train Loss : 0.5193, Train Acc : 74.1744%\n",
      "Epoch:1 Val Loss : 0.487, Val Acc : 73.9698%\n",
      "=======================================================\n",
      "Epoch:2 Train Loss : 0.5134, Train Acc : 74.7258%\n",
      "Epoch:2 Val Loss : 0.5175, Val Acc : 70.5456%\n",
      "=======================================================\n",
      "Epoch:3 Train Loss : 0.5141, Train Acc : 74.4571%\n",
      "Epoch:3 Val Loss : 0.5139, Val Acc : 71.1211%\n",
      "=======================================================\n",
      "Epoch:4 Train Loss : 0.5119, Train Acc : 74.7331%\n",
      "Epoch:4 Val Loss : 0.5154, Val Acc : 70.9608%\n",
      "=======================================================\n",
      "Epoch:5 Train Loss : 0.5101, Train Acc : 74.7973%\n",
      "Epoch:5 Val Loss : 0.5034, Val Acc : 72.1775%\n",
      "=======================================================\n",
      "Epoch:6 Train Loss : 0.5085, Train Acc : 74.9561%\n",
      "Epoch:6 Val Loss : 0.5215, Val Acc : 71.3235%\n",
      "=======================================================\n",
      "Epoch:7 Train Loss : 0.5093, Train Acc : 74.9009%\n",
      "Epoch:7 Val Loss : 0.5029, Val Acc : 72.1486%\n",
      "=======================================================\n",
      "Epoch:8 Train Loss : 0.5082, Train Acc : 74.9054%\n",
      "Epoch:8 Val Loss : 0.4992, Val Acc : 72.1197%\n",
      "=======================================================\n",
      "Epoch:9 Train Loss : 0.5058, Train Acc : 75.1335%\n",
      "Epoch:9 Val Loss : 0.531, Val Acc : 70.472%\n",
      "=======================================================\n",
      "Epoch:10 Train Loss : 0.5079, Train Acc : 74.7736%\n",
      "Epoch:10 Val Loss : 0.5028, Val Acc : 71.9069%\n",
      "=======================================================\n"
     ]
    }
   ],
   "source": [
    "total_loss_train_plot = []\n",
    "total_loss_validation_plot = []\n",
    "total_acc_train_plot = []\n",
    "total_acc_validation_plot = []\n",
    "\n",
    "EPOCHS = 10\n",
    "\n",
    "for epoch in range(EPOCHS):\n",
    "    total_acc_train = 0\n",
    "    total_loss_train = 0 \n",
    "    total_acc_val = 0\n",
    "    total_loss_val = 0\n",
    "    model.train()\n",
    "    for input,label in train_dataloader:\n",
    "        input =input.to(device)\n",
    "        label=label.to(device)\n",
    "        optimazer.zero_grad()\n",
    "        \n",
    "        pred = model(input).squeeze(1)\n",
    "        batch_loss = criterion(pred,label)\n",
    "        total_loss_train += batch_loss.item()\n",
    "        batch_loss.backward()\n",
    "        \n",
    "        preds = torch.sigmoid(pred)\n",
    "        acc = (preds.round()==label).sum().item()\n",
    "        total_acc_train +=acc\n",
    "        \n",
    "        optimazer.step()\n",
    "        \n",
    "        \n",
    "    with torch.no_grad():\n",
    "        model.eval()\n",
    "        for input,label in val_dataloader:\n",
    "            input=input.to(device)\n",
    "            label=label.to(device)\n",
    "            pred = model(input).squeeze(1)\n",
    "            batch_loss = criterion(pred,label)\n",
    "            total_loss_val += batch_loss.item()\n",
    "            \n",
    "            preds = torch.sigmoid(pred)\n",
    "            acc = (preds.round()==label).sum().item()\n",
    "            total_acc_val += acc\n",
    "            \n",
    "    total_loss_train_plot.append(round(total_loss_train/len(train_dataloader),4))\n",
    "    total_loss_validation_plot.append(round(total_loss_val/len(val_dataloader),4))\n",
    "    \n",
    "    total_acc_train_plot.append(round(total_acc_train/len(train_dataset)*100,4))\n",
    "    total_acc_validation_plot.append(round(total_acc_val/len(validation_dataset)*100,4))\n",
    "    \n",
    "    scheduler.step(total_loss_validation_plot[epoch])\n",
    "    print(f'Epoch:{epoch+1} Train Loss : {total_loss_train_plot[epoch]}, Train Acc : {total_acc_train_plot[epoch]}%')\n",
    "    print(f'Epoch:{epoch+1} Val Loss : {total_loss_validation_plot[epoch]}, Val Acc : {total_acc_validation_plot[epoch]}%')\n",
    "    print('='*55)\n",
    "    "
   ]
  },
  {
   "cell_type": "code",
   "execution_count": 212,
   "id": "ff3a65c1",
   "metadata": {},
   "outputs": [],
   "source": [
    "all_preds = []\n",
    "all_labels=[]\n",
    "with torch.no_grad():\n",
    "    model.eval()\n",
    "    total_loss_test =0\n",
    "    total_acc_test = 0\n",
    "    for input,label in test_dataloader:\n",
    "        input,label = input.to(device),label.to(device)\n",
    "        pred = model(input).squeeze(1)\n",
    "        probs = torch.sigmoid(pred)\n",
    "        preds = probs.round()\n",
    "        \n",
    "        all_preds.append(preds.cpu())\n",
    "        all_labels.append(label.cpu())\n",
    "        \n",
    "        \n",
    "all_preds = torch.cat(all_preds).numpy()\n",
    "all_labels = torch.cat(all_labels).numpy()\n",
    "\n"
   ]
  },
  {
   "cell_type": "code",
   "execution_count": 213,
   "id": "7b8ecd51",
   "metadata": {},
   "outputs": [
    {
     "name": "stdout",
     "output_type": "stream",
     "text": [
      "              precision    recall  f1-score   support\n",
      "\n",
      " No Diabetes       0.96      0.71      0.81     32750\n",
      "    Diabetes       0.30      0.80      0.44      5302\n",
      "\n",
      "    accuracy                           0.72     38052\n",
      "   macro avg       0.63      0.75      0.63     38052\n",
      "weighted avg       0.87      0.72      0.76     38052\n",
      "\n"
     ]
    }
   ],
   "source": [
    "from sklearn.metrics import classification_report\n",
    "cm=classification_report(all_labels,all_preds,target_names=['No Diabetes','Diabetes'])\n",
    "print(cm)"
   ]
  },
  {
   "cell_type": "code",
   "execution_count": 214,
   "id": "f3ca5f6b",
   "metadata": {},
   "outputs": [
    {
     "name": "stdout",
     "output_type": "stream",
     "text": [
      "epoch:0 loss: 1.0349\n",
      "epoch:1 loss: 1.0312\n",
      "epoch:2 loss: 1.0253\n",
      "epoch:3 loss: 1.0178\n",
      "epoch:4 loss: 1.0093\n",
      "epoch:5 loss: 0.9998\n",
      "epoch:6 loss: 0.9900\n",
      "epoch:7 loss: 0.9795\n",
      "epoch:8 loss: 0.9688\n",
      "epoch:9 loss: 0.9583\n",
      "epoch:10 loss: 0.9476\n",
      "epoch:11 loss: 0.9370\n",
      "epoch:12 loss: 0.9267\n",
      "epoch:13 loss: 0.9165\n",
      "epoch:14 loss: 0.9065\n",
      "epoch:15 loss: 0.8964\n",
      "epoch:16 loss: 0.8864\n",
      "epoch:17 loss: 0.8766\n",
      "epoch:18 loss: 0.8670\n",
      "epoch:19 loss: 0.8574\n",
      "epoch:20 loss: 0.8482\n",
      "epoch:21 loss: 0.8395\n",
      "epoch:22 loss: 0.8307\n",
      "epoch:23 loss: 0.8223\n",
      "epoch:24 loss: 0.8143\n",
      "epoch:25 loss: 0.8067\n",
      "epoch:26 loss: 0.7993\n",
      "epoch:27 loss: 0.7926\n",
      "epoch:28 loss: 0.7865\n",
      "epoch:29 loss: 0.7810\n",
      "epoch:30 loss: 0.7760\n",
      "epoch:31 loss: 0.7711\n",
      "epoch:32 loss: 0.7664\n",
      "epoch:33 loss: 0.7620\n",
      "epoch:34 loss: 0.7579\n",
      "epoch:35 loss: 0.7539\n",
      "epoch:36 loss: 0.7501\n",
      "epoch:37 loss: 0.7464\n",
      "epoch:38 loss: 0.7429\n",
      "epoch:39 loss: 0.7394\n",
      "epoch:40 loss: 0.7360\n",
      "epoch:41 loss: 0.7328\n",
      "epoch:42 loss: 0.7297\n",
      "epoch:43 loss: 0.7268\n",
      "epoch:44 loss: 0.7239\n",
      "epoch:45 loss: 0.7212\n",
      "epoch:46 loss: 0.7185\n",
      "epoch:47 loss: 0.7159\n",
      "epoch:48 loss: 0.7131\n",
      "epoch:49 loss: 0.7105\n"
     ]
    }
   ],
   "source": [
    "small_X = next(iter(train_dataloader))[0]\n",
    "small_Y = next(iter(train_dataloader))[1]\n",
    "\n",
    "for i in range(50):\n",
    "    optimazer.zero_grad()\n",
    "    output = model(small_X)\n",
    "    loss = criterion(output.squeeze(1),small_Y)\n",
    "    loss.backward()\n",
    "    optimazer.step()\n",
    "    print(f'epoch:{i} loss: {loss.item():.4f}')"
   ]
  },
  {
   "cell_type": "code",
   "execution_count": null,
   "id": "0a5aeb54",
   "metadata": {},
   "outputs": [],
   "source": []
  },
  {
   "cell_type": "code",
   "execution_count": null,
   "id": "ee473093",
   "metadata": {},
   "outputs": [],
   "source": []
  },
  {
   "cell_type": "code",
   "execution_count": null,
   "id": "e9a93651",
   "metadata": {},
   "outputs": [],
   "source": []
  },
  {
   "cell_type": "code",
   "execution_count": null,
   "id": "808ae492",
   "metadata": {},
   "outputs": [],
   "source": []
  },
  {
   "cell_type": "code",
   "execution_count": null,
   "id": "df4b3476",
   "metadata": {},
   "outputs": [],
   "source": []
  },
  {
   "cell_type": "code",
   "execution_count": null,
   "id": "b1a2a59c",
   "metadata": {},
   "outputs": [],
   "source": []
  },
  {
   "cell_type": "code",
   "execution_count": null,
   "id": "b801a2b8",
   "metadata": {},
   "outputs": [],
   "source": []
  },
  {
   "cell_type": "code",
   "execution_count": null,
   "id": "bfe826d2",
   "metadata": {},
   "outputs": [],
   "source": []
  },
  {
   "cell_type": "code",
   "execution_count": null,
   "id": "6a00f8e1",
   "metadata": {},
   "outputs": [],
   "source": []
  },
  {
   "cell_type": "code",
   "execution_count": null,
   "id": "3575b6a2",
   "metadata": {},
   "outputs": [],
   "source": []
  },
  {
   "cell_type": "code",
   "execution_count": null,
   "id": "633a3a50",
   "metadata": {},
   "outputs": [],
   "source": []
  },
  {
   "cell_type": "code",
   "execution_count": null,
   "id": "f361ea19",
   "metadata": {},
   "outputs": [],
   "source": []
  },
  {
   "cell_type": "code",
   "execution_count": null,
   "id": "c142882a",
   "metadata": {},
   "outputs": [],
   "source": []
  },
  {
   "cell_type": "code",
   "execution_count": null,
   "id": "9d4a6068",
   "metadata": {},
   "outputs": [],
   "source": []
  }
 ],
 "metadata": {
  "kernelspec": {
   "display_name": ".venv",
   "language": "python",
   "name": "python3"
  },
  "language_info": {
   "codemirror_mode": {
    "name": "ipython",
    "version": 3
   },
   "file_extension": ".py",
   "mimetype": "text/x-python",
   "name": "python",
   "nbconvert_exporter": "python",
   "pygments_lexer": "ipython3",
   "version": "3.10.0"
  }
 },
 "nbformat": 4,
 "nbformat_minor": 5
}
